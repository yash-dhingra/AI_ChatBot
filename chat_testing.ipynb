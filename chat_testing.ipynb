{
 "cells": [
  {
   "cell_type": "code",
   "execution_count": 1,
   "metadata": {},
   "outputs": [
    {
     "name": "stdout",
     "output_type": "stream",
     "text": [
      "Let's chat! (type 'quit' to exit)\n"
     ]
    }
   ],
   "source": [
    "import random\n",
    "import json\n",
    "\n",
    "import torch\n",
    "\n",
    "from model import NeuralNet\n",
    "from nltk_utils import bag_of_words, tokenize\n",
    "\n",
    "device = torch.device('cuda' if torch.cuda.is_available() else 'cpu')\n",
    "\n",
    "with open('intents.json', 'r') as json_data:\n",
    "    intents = json.load(json_data)\n",
    "\n",
    "FILE = \"data.pth\"\n",
    "data = torch.load(FILE)\n",
    "\n",
    "input_size = data[\"input_size\"]\n",
    "hidden_size = data[\"hidden_size\"]\n",
    "output_size = data[\"output_size\"]\n",
    "all_words = data['all_words']\n",
    "tags = data['tags']\n",
    "model_state = data[\"model_state\"]\n",
    "\n",
    "model = NeuralNet(input_size, hidden_size, output_size).to(device)\n",
    "model.load_state_dict(model_state)\n",
    "model.eval()\n",
    "\n",
    "bot_name = \"ViShaYa\"\n",
    "print(\"Let's chat! (type 'quit' to exit)\")\n"
   ]
  },
  {
   "cell_type": "code",
   "execution_count": 2,
   "metadata": {},
   "outputs": [],
   "source": [
    "sentence=\"Hello\"\n",
    "# if sentence == \"quit\":\n",
    "#     break\n",
    "\n",
    "sentence = tokenize(sentence)\n",
    "X = bag_of_words(sentence, all_words)\n",
    "X = X.reshape(1, X.shape[0])\n",
    "X = torch.from_numpy(X).to(device)\n",
    "\n",
    "output = model(X)\n",
    "_, predicted = torch.max(output, dim=1)\n",
    "\n",
    "tag = tags[predicted.item()]\n",
    "\n",
    "probs = torch.softmax(output, dim=1)\n",
    "prob = probs[0][predicted.item()]\n"
   ]
  },
  {
   "cell_type": "code",
   "execution_count": 3,
   "metadata": {},
   "outputs": [
    {
     "data": {
      "text/plain": [
       "'greeting'"
      ]
     },
     "execution_count": 3,
     "metadata": {},
     "output_type": "execute_result"
    }
   ],
   "source": [
    "tag"
   ]
  },
  {
   "cell_type": "code",
   "execution_count": 4,
   "metadata": {},
   "outputs": [
    {
     "name": "stdout",
     "output_type": "stream",
     "text": [
      "ViShaYa: Hi there, how can I help?\n"
     ]
    }
   ],
   "source": [
    "if prob.item() > 0.75:\n",
    "    for intent in intents['intents']:\n",
    "        if tag == intent[\"tag\"]:\n",
    "            print(f\"{bot_name}: {random.choice(intent['responses'])}\")\n",
    "else:\n",
    "    print(f\"{bot_name}: I do not understand...\")"
   ]
  },
  {
   "cell_type": "code",
   "execution_count": 5,
   "metadata": {},
   "outputs": [
    {
     "name": "stdout",
     "output_type": "stream",
     "text": [
      "The warranty for Order ID ORD1005 is still valid.\n",
      "Expiry Date: 2024-08-18\n"
     ]
    }
   ],
   "source": [
    "import pandas as pd\n",
    "from datetime import datetime, timedelta\n",
    "\n",
    "# Load the CSV file\n",
    "df = pd.read_csv('dummy_orders.csv')\n",
    "\n",
    "def check_warranty(order_id):\n",
    "    # Find the order in the dataframe\n",
    "    order = df[df['OrderID'] == order_id]\n",
    "    \n",
    "    if order.empty:\n",
    "        print(f\"Order ID {order_id} not found.\")\n",
    "        return\n",
    "    \n",
    "    # Get the date of purchase\n",
    "    date_of_purchase = datetime.strptime(order.iloc[0]['DateOfPurchase'], '%Y-%m-%d')\n",
    "    \n",
    "    # Calculate the expiry date\n",
    "    expiry_date = date_of_purchase + timedelta(days=365)\n",
    "    \n",
    "    # Check if the warranty is still valid\n",
    "    if datetime.now() <= expiry_date:\n",
    "        print(f\"The warranty for Order ID {order_id} is still valid.\")\n",
    "    else:\n",
    "        print(f\"The warranty for Order ID {order_id} has expired.\")\n",
    "    \n",
    "    print(f\"Expiry Date: {expiry_date.strftime('%Y-%m-%d')}\")\n",
    "\n",
    "# Get Order ID from the user\n",
    "order_id_input = input(\"Enter Order ID: \")\n",
    "check_warranty(order_id_input)\n"
   ]
  },
  {
   "cell_type": "code",
   "execution_count": null,
   "metadata": {},
   "outputs": [],
   "source": []
  }
 ],
 "metadata": {
  "kernelspec": {
   "display_name": "MLenv",
   "language": "python",
   "name": "python3"
  },
  "language_info": {
   "codemirror_mode": {
    "name": "ipython",
    "version": 3
   },
   "file_extension": ".py",
   "mimetype": "text/x-python",
   "name": "python",
   "nbconvert_exporter": "python",
   "pygments_lexer": "ipython3",
   "version": "3.11.4"
  }
 },
 "nbformat": 4,
 "nbformat_minor": 2
}
